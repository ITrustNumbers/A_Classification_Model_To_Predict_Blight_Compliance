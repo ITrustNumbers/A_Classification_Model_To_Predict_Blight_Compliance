{
 "cells": [
  {
   "cell_type": "markdown",
   "metadata": {},
   "source": [
    "# Model Building and HyperParameter Tuning"
   ]
  },
  {
   "cell_type": "markdown",
   "metadata": {},
   "source": [
    "## Model Selection :"
   ]
  },
  {
   "cell_type": "markdown",
   "metadata": {},
   "source": [
    "###  For This DataSet as there aren't many Outliers left, I will use Two Linear Models for Baseline Performance and reference namely:\n",
    "\n",
    "1. Dummy Classifier (Stratergy = 'Most_Frequent')<br />\n",
    "2. Logistic Regression\n",
    "\n",
    "###  For The Final Model Building as the Data is very Sparse and Feature Don't Relate with each other very much, I will Fit and Compare 3 Different Models namely:\n",
    "\n",
    "1. A Support Vector Machine (With either Radio Basis Function or Polynomial kernel)\n",
    "2. A Decision Tree\n",
    "3. An Ensemble, Gradient Boosted Decision Trees\n",
    " \n"
   ]
  },
  {
   "cell_type": "markdown",
   "metadata": {},
   "source": [
    "## Evaluation Metric :"
   ]
  },
  {
   "cell_type": "markdown",
   "metadata": {},
   "source": [
    "### This DataSet is highly unbalanced i.e there are a total of 145734 Instances of The Negative Class and only 11265 Instances of The Positive Class, Hence Accuracy will not be a very good Metric for Evaluation"
   ]
  },
  {
   "cell_type": "markdown",
   "metadata": {},
   "source": [
    "### A Binary Confusion Matrix:\n",
    "\n",
    "![Confusion Matrix](https://github.com/ITrustNumbers/A_Classification_Model_To_Predict_Blight_Compliance/blob/master/_Images/Confusion_matrix.png)\n",
    "### Other Considered Metric for Evaluation :"
   ]
  },
  {
   "cell_type": "code",
   "execution_count": null,
   "metadata": {},
   "outputs": [],
   "source": []
  }
 ],
 "metadata": {
  "kernelspec": {
   "display_name": "Python 3",
   "language": "python",
   "name": "python3"
  },
  "language_info": {
   "codemirror_mode": {
    "name": "ipython",
    "version": 3
   },
   "file_extension": ".py",
   "mimetype": "text/x-python",
   "name": "python",
   "nbconvert_exporter": "python",
   "pygments_lexer": "ipython3",
   "version": "3.7.9"
  }
 },
 "nbformat": 4,
 "nbformat_minor": 4
}
