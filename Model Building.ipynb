{
 "cells": [
  {
   "cell_type": "markdown",
   "metadata": {},
   "source": [
    "# Model Building and HyperParameter Tuning"
   ]
  },
  {
   "cell_type": "markdown",
   "metadata": {},
   "source": [
    "## †  For This DataSet as there aren't many Outliers left, I will use Two Linear Models for Baseline Performance and reference namely:\n",
    "\n",
    "1. Dummy Classifier (Stratergy = 'Most_Frequent')<br />\n",
    "2. Logistic Regression\n",
    "\n",
    "## For The Final Model Building as the Data is very Sparse and Feature Don't Relate with each other very much, I will Fit and Compare 3 Different Models namely:\n",
    "\n",
    "1. Support Vector Machine (With either Radio Basis Function or Polynomial kernel)\n",
    "2. Decision Tree\n",
    "3. Ensemble, Gradient Boosted Decision Trees\n",
    " \n"
   ]
  },
  {
   "cell_type": "markdown",
   "metadata": {},
   "source": [
    "##"
   ]
  }
 ],
 "metadata": {
  "kernelspec": {
   "display_name": "Python 3",
   "language": "python",
   "name": "python3"
  },
  "language_info": {
   "codemirror_mode": {
    "name": "ipython",
    "version": 3
   },
   "file_extension": ".py",
   "mimetype": "text/x-python",
   "name": "python",
   "nbconvert_exporter": "python",
   "pygments_lexer": "ipython3",
   "version": "3.7.9"
  }
 },
 "nbformat": 4,
 "nbformat_minor": 4
}
